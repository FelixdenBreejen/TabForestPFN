{
 "cells": [
  {
   "cell_type": "code",
   "execution_count": 10,
   "metadata": {},
   "outputs": [],
   "source": [
    "import torch\n",
    "\n",
    "pt = torch.load('outputs_done/foundation_tabpfn_big/weights/model_step_500000.pt')\n",
    "\n",
    "for param in list(pt.keys()):\n",
    "\n",
    "    if 'attention_lin' in param:\n",
    "        pt[ param.replace('attention_lin', 'attention')  ] = pt.pop(param)\n",
    "\n",
    "    elif 'attention_mha' in param:\n",
    "        del pt[param]\n",
    "\n",
    "\n",
    "torch.save(pt, 'outputs_done/foundation_tabpfn_big/weights/model_step_500000.pt')\n",
    "\n",
    "\n"
   ]
  }
 ],
 "metadata": {
  "kernelspec": {
   "display_name": "tab",
   "language": "python",
   "name": "python3"
  },
  "language_info": {
   "codemirror_mode": {
    "name": "ipython",
    "version": 3
   },
   "file_extension": ".py",
   "mimetype": "text/x-python",
   "name": "python",
   "nbconvert_exporter": "python",
   "pygments_lexer": "ipython3",
   "version": "3.11.7"
  }
 },
 "nbformat": 4,
 "nbformat_minor": 2
}
