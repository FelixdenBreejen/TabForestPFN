{
 "cells": [
  {
   "cell_type": "code",
   "execution_count": 1,
   "metadata": {},
   "outputs": [],
   "source": [
    "import sys\n",
    "from typing import Optional\n",
    "from omegaconf import DictConfig\n",
    "\n",
    "import logging\n",
    "import torch\n",
    "\n",
    "from tabularbench.core.enums import DatasetSize, ModelName, Task\n",
    "from tabularbench.core.get_model import get_model\n",
    "from tabularbench.core.get_trainer import get_trainer\n",
    "\n",
    "from tabularbench.data.dataset_openml import OpenMLDataset\n",
    "from tabularbench.results.run_metrics import RunMetrics\n",
    "from tabularbench.utils.config_run import ConfigRun\n",
    "from tabularbench.utils.set_seed import set_seed\n",
    "from tabularbench.core.run_experiment import run_experiment\n",
    "\n",
    "\n",
    "cfg = ConfigRun(\n",
    "    logger = get_logger('output_run_experiment')\n",
    "    output_dir = \"output_run_experiment\",\n",
    "    device = torch.device(\"cuda:0\"),\n",
    "    model_name = ModelName.FOUNDATION,\n",
    "    seed = 0,\n",
    "    task = Task.CLASSIFICATION,\n",
    "    dataset_size = DatasetSize.MEDIUM,\n",
    "    openml_dataset_id = 44157,\n",
    "    openml_dataset_name = \"eye-movements\",\n",
    "    hyperparams = DictConfig({\n",
    "        'n_features': 100,\n",
    "        'n_classes': 10,\n",
    "        'dim': 512,\n",
    "        'n_layers': 12,\n",
    "        'n_heads': 4,\n",
    "        'attn_dropout': 0.0,\n",
    "        'y_as_float_embedding': True,\n",
    "        'linear_attention': False,\n",
    "        'max_samples_support': 10000,\n",
    "        'max_samples_query': 10000,\n",
    "        'max_epochs': 300,\n",
    "        'optimizer': 'adamw',\n",
    "        'lr': 1.e-5,\n",
    "        'weight_decay': 0,\n",
    "        'lr_scheduler': False,\n",
    "        'lr_scheduler_patience': 30,\n",
    "        'early_stopping_patience': 40,\n",
    "        'use_pretrained_weights': True,\n",
    "        'path_to_weights': \"tabularbench/weights/foundation_forest.pt\",\n",
    "        'n_ensembles': 1,\n",
    "        'use_quantile_transformer': True,\n",
    "        'use_feature_count_scaling': True\n",
    "    })\n",
    ")"
   ]
  },
  {
   "cell_type": "code",
   "execution_count": 2,
   "metadata": {},
   "outputs": [],
   "source": [
    "dataset = OpenMLDataset(cfg.openml_dataset_id, cfg.task, cfg.dataset_size)\n",
    "metrics = RunMetrics()\n",
    "\n",
    "x_train, x_val, x_test, y_train, y_val, y_test, categorical_indicator = next(dataset.split_iterator())\n",
    "\n",
    "model = get_model(cfg, x_train, y_train, categorical_indicator)\n",
    "trainer = get_trainer(cfg, model)\n",
    "trainer.train(x_train, y_train)\n",
    "\n",
    "loss_train, score_train = trainer.test(x_train, y_train, x_train, y_train)\n",
    "loss_val, score_val = trainer.test(x_train, y_train, x_val, y_val)\n",
    "loss_test, score_test = trainer.test(x_train, y_train, x_test, y_test)\n"
   ]
  },
  {
   "cell_type": "code",
   "execution_count": 4,
   "metadata": {},
   "outputs": [
    {
     "data": {
      "text/plain": [
       "True"
      ]
     },
     "execution_count": 4,
     "metadata": {},
     "output_type": "execute_result"
    }
   ],
   "source": [
    "import dill\n",
    "from logging import getLogger\n",
    "\n",
    "logger = getLogger('output_run_experiment')\n",
    "\n",
    "dill.pickles(logger)"
   ]
  }
 ],
 "metadata": {
  "kernelspec": {
   "display_name": "tab",
   "language": "python",
   "name": "python3"
  },
  "language_info": {
   "codemirror_mode": {
    "name": "ipython",
    "version": 3
   },
   "file_extension": ".py",
   "mimetype": "text/x-python",
   "name": "python",
   "nbconvert_exporter": "python",
   "pygments_lexer": "ipython3",
   "version": "3.11.5"
  }
 },
 "nbformat": 4,
 "nbformat_minor": 2
}
