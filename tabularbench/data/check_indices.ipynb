{
 "cells": [
  {
   "cell_type": "code",
   "execution_count": 101,
   "metadata": {},
   "outputs": [
    {
     "name": "stdout",
     "output_type": "stream",
     "text": [
      "The autoreload extension is already loaded. To reload it, use:\n",
      "  %reload_ext autoreload\n"
     ]
    }
   ],
   "source": [
    "%load_ext autoreload\n",
    "%autoreload 2"
   ]
  },
  {
   "cell_type": "code",
   "execution_count": 102,
   "metadata": {},
   "outputs": [],
   "source": [
    "import pickle\n",
    "from pathlib import Path"
   ]
  },
  {
   "cell_type": "code",
   "execution_count": 103,
   "metadata": {},
   "outputs": [],
   "source": [
    "indices_path = Path('train_val_test_indices.pkl')\n",
    "with open(indices_path, 'rb') as f:\n",
    "    indices = pickle.load(f)"
   ]
  },
  {
   "cell_type": "markdown",
   "metadata": {},
   "source": [
    "keys are the openml_ids:"
   ]
  },
  {
   "cell_type": "code",
   "execution_count": 104,
   "metadata": {},
   "outputs": [
    {
     "data": {
      "text/plain": [
       "dict_keys([361085, 361087, 361073, 361082, 361083, 361081, 361080, 361078, 361088, 361084, 361077, 361076, 361079, 361074, 361072, 361280, 361281, 361086, 361279, 361275, 361274, 361278, 361277, 361273, 361276, 361055, 361069, 361066, 361061, 361070, 361063, 361060, 361062, 361065, 361068, 361101, 361287, 361103, 361094, 361291, 361104, 361102, 361294, 361098, 361288, 361096, 361097, 361099, 361093, 361293, 361292, 361289, 361285, 361283, 361282, 361113, 361111, 361286, 361110])"
      ]
     },
     "execution_count": 104,
     "metadata": {},
     "output_type": "execute_result"
    }
   ],
   "source": [
    "indices.keys()"
   ]
  },
  {
   "cell_type": "markdown",
   "metadata": {},
   "source": [
    "Every openml dataset has different sizes:"
   ]
  },
  {
   "cell_type": "code",
   "execution_count": 105,
   "metadata": {},
   "outputs": [
    {
     "name": "stdout",
     "output_type": "stream",
     "text": [
      "{10000, 50000}\n",
      "{10000, 50000}\n"
     ]
    }
   ],
   "source": [
    "sizes_all = []\n",
    "\n",
    "for openml_id, indices_by_size in indices.items():\n",
    "    sizes = indices_by_size.keys()\n",
    "    sizes_all.append(sizes)\n",
    "\n",
    "print(set.intersection(*map(set, sizes_all)))\n",
    "print(set.union(*map(set, sizes_all)))"
   ]
  },
  {
   "cell_type": "markdown",
   "metadata": {},
   "source": [
    "Under every key, there is an array with every element belonging to a split:"
   ]
  },
  {
   "cell_type": "code",
   "execution_count": 106,
   "metadata": {},
   "outputs": [
    {
     "data": {
      "text/plain": [
       "{361085: (3, 3),\n",
       " 361087: (3, 3),\n",
       " 361073: (2, 2),\n",
       " 361082: (2, 2),\n",
       " 361083: (1, 1),\n",
       " 361081: (3, 3),\n",
       " 361080: (1, 1),\n",
       " 361078: (1, 2),\n",
       " 361088: (1, 2),\n",
       " 361084: (1, 2),\n",
       " 361077: (3, 3),\n",
       " 361076: (3, 3),\n",
       " 361079: (1, 2),\n",
       " 361074: (2, 2),\n",
       " 361072: (3, 3),\n",
       " 361280: (5, 5),\n",
       " 361281: (1, 1),\n",
       " 361086: (1, 1),\n",
       " 361279: (3, 3),\n",
       " 361275: (3, 3),\n",
       " 361274: (1, 1),\n",
       " 361278: (3, 3),\n",
       " 361277: (1, 2),\n",
       " 361273: (1, 1),\n",
       " 361276: (5, 5),\n",
       " 361055: (2, 2),\n",
       " 361069: (1, 1),\n",
       " 361066: (3, 3),\n",
       " 361061: (1, 1),\n",
       " 361070: (3, 3),\n",
       " 361063: (3, 3),\n",
       " 361060: (1, 1),\n",
       " 361062: (3, 3),\n",
       " 361065: (3, 3),\n",
       " 361068: (1, 1),\n",
       " 361101: (1, 1),\n",
       " 361287: (3, 3),\n",
       " 361103: (1, 1),\n",
       " 361094: (3, 3),\n",
       " 361291: (1, 1),\n",
       " 361104: (1, 1),\n",
       " 361102: (1, 2),\n",
       " 361294: (1, 1),\n",
       " 361098: (3, 3),\n",
       " 361288: (5, 5),\n",
       " 361096: (1, 1),\n",
       " 361097: (5, 5),\n",
       " 361099: (2, 2),\n",
       " 361093: (5, 5),\n",
       " 361293: (1, 1),\n",
       " 361292: (1, 1),\n",
       " 361289: (1, 1),\n",
       " 361285: (1, 1),\n",
       " 361283: (3, 3),\n",
       " 361282: (1, 1),\n",
       " 361113: (1, 1),\n",
       " 361111: (3, 3),\n",
       " 361286: (3, 3),\n",
       " 361110: (1, 1)}"
      ]
     },
     "execution_count": 106,
     "metadata": {},
     "output_type": "execute_result"
    }
   ],
   "source": [
    "splits_per_openmlid = { k: (len(v[10000]), len(v[50000])) for k, v in indices.items() }\n",
    "splits_per_openmlid"
   ]
  },
  {
   "cell_type": "markdown",
   "metadata": {},
   "source": [
    "For every split, we have a tuple with the indices for the training, validation and test data:"
   ]
  },
  {
   "cell_type": "code",
   "execution_count": 107,
   "metadata": {},
   "outputs": [
    {
     "name": "stdout",
     "output_type": "stream",
     "text": [
      "7056 907 2118\n",
      "[3545, 8013, 4827, 2260, 9311] [8935, 9843, 6856, 4772, 6893] [8308, 9199, 2706, 7761, 7382]\n"
     ]
    }
   ],
   "source": [
    "(indices_train, indices_val, indices_test) = indices[361085][10000][0]\n",
    "print(len(indices_train), len(indices_val), len(indices_test))\n",
    "print(indices_train[:5], indices_val[:5], indices_test[:5])"
   ]
  },
  {
   "cell_type": "code",
   "execution_count": 108,
   "metadata": {},
   "outputs": [],
   "source": [
    "for openml_id, dataset in indices.items():\n",
    "    for size, splits in dataset.items():\n",
    "        for split in splits:\n",
    "            split_train = set(split[0])\n",
    "            split_val = set(split[1])\n",
    "            split_test = set(split[2])\n",
    "\n",
    "            assert len(split_train & split_val) == 0\n",
    "            assert len(split_train & split_test) == 0\n",
    "            assert len(split_val & split_test) == 0        "
   ]
  }
 ],
 "metadata": {
  "kernelspec": {
   "display_name": "tabularbench",
   "language": "python",
   "name": "python3"
  },
  "language_info": {
   "codemirror_mode": {
    "name": "ipython",
    "version": 3
   },
   "file_extension": ".py",
   "mimetype": "text/x-python",
   "name": "python",
   "nbconvert_exporter": "python",
   "pygments_lexer": "ipython3",
   "version": "3.10.12"
  },
  "orig_nbformat": 4
 },
 "nbformat": 4,
 "nbformat_minor": 2
}
