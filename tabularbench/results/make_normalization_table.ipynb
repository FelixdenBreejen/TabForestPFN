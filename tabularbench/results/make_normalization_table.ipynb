{
 "cells": [
  {
   "cell_type": "code",
   "execution_count": 8,
   "metadata": {},
   "outputs": [
    {
     "name": "stdout",
     "output_type": "stream",
     "text": [
      "The autoreload extension is already loaded. To reload it, use:\n",
      "  %reload_ext autoreload\n"
     ]
    }
   ],
   "source": [
    "# autoreload magic\n",
    "%load_ext autoreload\n",
    "%autoreload 2"
   ]
  },
  {
   "cell_type": "code",
   "execution_count": 9,
   "metadata": {},
   "outputs": [],
   "source": [
    "import seaborn as sns\n",
    "\n",
    "paths = [\n",
    "    'outputs_done/tabPFN_finetune_1k',\n",
    "    'outputs_done/tabPFN_finetune_10k',\n",
    "    'outputs_done/tabPFN_scratch',\n",
    "    'outputs_done/tabPFN_zeroshot_1k',\n",
    "    'outputs_done/tabPFN_zeroshot_10k',\n",
    "]\n",
    "\n",
    "folders = [\n",
    "    'categorical_classification_TABPFN_FINETUNE_DEFAULT',\n",
    "    'numerical_classification_TABPFN_FINETUNE_DEFAULT',\n",
    "    'categorical_regression_TABPFN_FINETUNE_DEFAULT',\n",
    "    'numerical_regression_TABPFN_FINETUNE_DEFAULT'\n",
    "]\n",
    "\n",
    "m = [\"RandomForest\", \"GradientBoostingTree\", \"XGBoost\", \"MLP\", \"Resnet\", \"SAINT\", \"FT Transformer\", \"TabPFN Finetune 1k\", \"TabPFN Finetune 10k\", \"TabPFN Scratch\", \"TabPFN Zeroshot 1k\", \"TabPFN Zeroshot 10k\"]\n",
    "colors = sns.color_palette('colorblind', len(m))\n",
    "color_dict = dict(zip(m, colors))"
   ]
  },
  {
   "cell_type": "code",
   "execution_count": 10,
   "metadata": {},
   "outputs": [
    {
     "data": {
      "text/html": [
       "<div>\n",
       "<style scoped>\n",
       "    .dataframe tbody tr th:only-of-type {\n",
       "        vertical-align: middle;\n",
       "    }\n",
       "\n",
       "    .dataframe tbody tr th {\n",
       "        vertical-align: top;\n",
       "    }\n",
       "\n",
       "    .dataframe thead th {\n",
       "        text-align: right;\n",
       "    }\n",
       "</style>\n",
       "<table border=\"1\" class=\"dataframe\">\n",
       "  <thead>\n",
       "    <tr style=\"text-align: right;\">\n",
       "      <th></th>\n",
       "      <th>categorical_classification</th>\n",
       "      <th>numerical_classification</th>\n",
       "      <th>categorical_regression</th>\n",
       "      <th>numerical_regression</th>\n",
       "    </tr>\n",
       "  </thead>\n",
       "  <tbody>\n",
       "    <tr>\n",
       "      <th>TabPFN Finetune 1k</th>\n",
       "      <td>0.622096</td>\n",
       "      <td>0.707268</td>\n",
       "      <td>0.067706</td>\n",
       "      <td>0.087726</td>\n",
       "    </tr>\n",
       "    <tr>\n",
       "      <th>TabPFN Finetune 10k</th>\n",
       "      <td>0.759808</td>\n",
       "      <td>0.805663</td>\n",
       "      <td>0.035340</td>\n",
       "      <td>0.091287</td>\n",
       "    </tr>\n",
       "    <tr>\n",
       "      <th>TabPFN Scratch</th>\n",
       "      <td>0.500788</td>\n",
       "      <td>0.605689</td>\n",
       "      <td>0.219901</td>\n",
       "      <td>0.290560</td>\n",
       "    </tr>\n",
       "    <tr>\n",
       "      <th>TabPFN Zeroshot 1k</th>\n",
       "      <td>0.445054</td>\n",
       "      <td>0.542058</td>\n",
       "      <td>0.000000</td>\n",
       "      <td>0.000000</td>\n",
       "    </tr>\n",
       "    <tr>\n",
       "      <th>TabPFN Zeroshot 10k</th>\n",
       "      <td>0.598883</td>\n",
       "      <td>0.660935</td>\n",
       "      <td>0.000000</td>\n",
       "      <td>0.000000</td>\n",
       "    </tr>\n",
       "  </tbody>\n",
       "</table>\n",
       "</div>"
      ],
      "text/plain": [
       "                     categorical_classification  numerical_classification  \\\n",
       "TabPFN Finetune 1k                     0.622096                  0.707268   \n",
       "TabPFN Finetune 10k                    0.759808                  0.805663   \n",
       "TabPFN Scratch                         0.500788                  0.605689   \n",
       "TabPFN Zeroshot 1k                     0.445054                  0.542058   \n",
       "TabPFN Zeroshot 10k                    0.598883                  0.660935   \n",
       "\n",
       "                     categorical_regression  numerical_regression  \n",
       "TabPFN Finetune 1k                 0.067706              0.087726  \n",
       "TabPFN Finetune 10k                0.035340              0.091287  \n",
       "TabPFN Scratch                     0.219901              0.290560  \n",
       "TabPFN Zeroshot 1k                 0.000000              0.000000  \n",
       "TabPFN Zeroshot 10k                0.000000              0.000000  "
      ]
     },
     "execution_count": 10,
     "metadata": {},
     "output_type": "execute_result"
    }
   ],
   "source": [
    "import logging\n",
    "from pathlib import Path\n",
    "\n",
    "import pandas as pd\n",
    "from tabularbench.results.random_sweep_plots import make_combined_dataset_plot_, scores_min_max\n",
    "from tabularbench.results.reformat_benchmark import get_benchmark_csv_reformatted\n",
    "from tabularbench.sweeps.sweep_config import create_sweep_config_list_from_main_config\n",
    "from tabularbench.sweeps.sweep_start import add_device_and_seed_to_cfg, get_config\n",
    "from tabularbench.sweeps.writer import StandardWriter\n",
    "\n",
    "import seaborn as sns\n",
    "\n",
    "df_benchmark = get_benchmark_csv_reformatted()\n",
    "\n",
    "results_dict = {}\n",
    "\n",
    "for folder in folders:\n",
    "        \n",
    "    bench_name = '_'.join(folder.split('_')[:2])\n",
    "\n",
    "    results_dict[bench_name] = {}\n",
    "\n",
    "\n",
    "\n",
    "    for path in paths:\n",
    "        cfg = get_config(path)\n",
    "        add_device_and_seed_to_cfg(cfg, gpu=0, seed=0)\n",
    "        cfg['benchmarks'] = [bench_name]\n",
    "\n",
    "        writer = StandardWriter()\n",
    "        logger = logging.getLogger()\n",
    "        sweep_config = create_sweep_config_list_from_main_config(cfg)[0]\n",
    "\n",
    "        model_plots_name = cfg['model_plot_names'][0]\n",
    "        \n",
    "        results = pd.read_csv( Path(path) / folder / 'default_results.csv', index_col=0)\n",
    "\n",
    "        def get_normalized_results():\n",
    "            for dataset_name in results.columns:\n",
    "                score_min, score_max = scores_min_max(sweep_config, dataset_name)\n",
    "\n",
    "                r = (results[dataset_name] - score_min) / (score_max - score_min)\n",
    "                yield max(r[-1], 0)\n",
    "\n",
    "        results_average = sum(get_normalized_results()) / len(results.columns)\n",
    "\n",
    "        results_dict[bench_name][model_plots_name] = results_average\n",
    "\n",
    "\n",
    "\n",
    "results_dict\n",
    "\n",
    "df = pd.DataFrame(results_dict)\n",
    "df\n",
    "\n"
   ]
  },
  {
   "cell_type": "code",
   "execution_count": 11,
   "metadata": {},
   "outputs": [
    {
     "name": "stdout",
     "output_type": "stream",
     "text": [
      "\\begin{tabular}{lrrrr}\n",
      "\\toprule\n",
      " & categorical_classification & numerical_classification & categorical_regression & numerical_regression \\\\\n",
      "\\midrule\n",
      "TabPFN Finetune 1k & 0.6221 & 0.7073 & 0.0677 & 0.0877 \\\\\n",
      "TabPFN Finetune 10k & 0.7598 & 0.8057 & 0.0353 & 0.0913 \\\\\n",
      "TabPFN Scratch & 0.5008 & 0.6057 & 0.2199 & 0.2906 \\\\\n",
      "TabPFN Zeroshot 1k & 0.4451 & 0.5421 & 0.0000 & 0.0000 \\\\\n",
      "TabPFN Zeroshot 10k & 0.5989 & 0.6609 & 0.0000 & 0.0000 \\\\\n",
      "\\bottomrule\n",
      "\\end{tabular}\n",
      "\n"
     ]
    }
   ],
   "source": [
    "print(df.to_latex(index=True, float_format=\"{:.4f}\".format))  "
   ]
  }
 ],
 "metadata": {
  "kernelspec": {
   "display_name": "tabularbench",
   "language": "python",
   "name": "python3"
  },
  "language_info": {
   "codemirror_mode": {
    "name": "ipython",
    "version": 3
   },
   "file_extension": ".py",
   "mimetype": "text/x-python",
   "name": "python",
   "nbconvert_exporter": "python",
   "pygments_lexer": "ipython3",
   "version": "3.10.12"
  },
  "orig_nbformat": 4
 },
 "nbformat": 4,
 "nbformat_minor": 2
}
