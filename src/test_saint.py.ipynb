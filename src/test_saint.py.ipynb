{
 "cells": [
  {
   "cell_type": "code",
   "execution_count": 1,
   "outputs": [],
   "source": [
    "import os\n",
    "os.environ[\"PROJECT_DIR\"] = \"test\"\n",
    "from generate_dataset_pipeline import generate_dataset\n",
    "import numpy as np\n",
    "from train import *\n",
    "from sklearn.ensemble import RandomForestClassifier\n",
    "from utils.plot_utils import plot_decision_boudaries\n",
    "import matplotlib.pyplot as plt\n",
    "from sklearn.metrics import r2_score\n",
    "from TabSurvey.models.saint import SAINT"
   ],
   "metadata": {
    "collapsed": false,
    "pycharm": {
     "name": "#%%\n"
    }
   }
  },
  {
   "cell_type": "code",
   "execution_count": 6,
   "metadata": {
    "collapsed": true
   },
   "outputs": [],
   "source": [
    "config = {\"model_name\": \"ft_transformer_regressor\",\n",
    "                  \"model_type\": \"skorch\",\n",
    "                  \"model__use_checkpoints\": False,\n",
    "                  \"model__optimizer\": \"adamw\",\n",
    "                  \"model__lr_scheduler\": True,\n",
    "                  \"model__batch_size\": 512,\n",
    "                  \"model__max_epochs\": 300,\n",
    "                  \"model__module__activation\": \"reglu\",\n",
    "                  \"model__module__normalization\": \"batchnorm\",\n",
    "                  \"model__module__n_layers\": 8,\n",
    "                  \"model__module__d\": 256,\n",
    "                  \"model__module__d_hidden_factor\": 2,\n",
    "                  \"model__module__hidden_dropout\":  0.2,\n",
    "                  \"model__module__residual_dropout\":  0.2,\n",
    "                  \"model__lr\": 1e-3,\n",
    "                  \"model__optimizer__weight_decay\":  1e-7,\n",
    "                  \"model__module__d_embedding\": 128,\n",
    "                  #\"model__verbose\": 100,\n",
    "                  \"model__max_epochs\": 2,\n",
    "                  \"regression\": True,\n",
    "                  \"data__regression\": False,\n",
    "                  \"data__method_name\": \"real_data\",\n",
    "                  \"data__categorical\": False,\n",
    "                  \"data__keyword\": \"wine\",\n",
    "                  \"transform__0__method_name\": \"gaussienize\",\n",
    "                  \"transform__0__type\": \"quantile\",\n",
    "                  \"transform__0__apply_on\": \"numerical\",\n",
    "                  #\"transformed_target\": True,\n",
    "                  \"max_train_samples\": 10000}\n",
    "\n",
    "CONFIG_DEFAULT = {\"train_prop\": 0.70,\n",
    "                  \"val_test_prop\": 0.3,\n",
    "                  \"max_val_samples\": 50000,\n",
    "                  \"max_test_samples\": 50000}\n",
    "\n",
    "config.update(CONFIG_DEFAULT)"
   ]
  },
  {
   "cell_type": "code",
   "execution_count": 15,
   "outputs": [
    {
     "name": "stdout",
     "output_type": "stream",
     "text": [
      "real_data\n",
      "transforming data...\n",
      "transform 0\n",
      "gaussienize\n",
      "Gaussienizing\n",
      "{'batch_size': 128, 'val_batch_size': 128, 'epochs': 2, 'early_stopping_rounds': 10, 'num_features': 11, 'use_gpu': False, 'data_parallel': True, 'cat_idx': [], 'num_classes': 1, 'objective': 'binary', 'model_name': 'saint', 'dataset': 'superconduct'}\n",
      "Using dim 5 and batch size 128\n"
     ]
    },
    {
     "ename": "AttributeError",
     "evalue": "'AttrDict' object has no attribute 'gpu_ids'",
     "output_type": "error",
     "traceback": [
      "\u001B[0;31m---------------------------------------------------------------------------\u001B[0m",
      "\u001B[0;31mAttributeError\u001B[0m                            Traceback (most recent call last)",
      "Input \u001B[0;32mIn [15]\u001B[0m, in \u001B[0;36m<cell line: 25>\u001B[0;34m()\u001B[0m\n\u001B[1;32m      9\u001B[0m args\u001B[38;5;241m.\u001B[39mupdate({\u001B[38;5;124m\"\u001B[39m\u001B[38;5;124mbatch_size\u001B[39m\u001B[38;5;124m\"\u001B[39m: \u001B[38;5;241m128\u001B[39m,\n\u001B[1;32m     10\u001B[0m              \u001B[38;5;124m\"\u001B[39m\u001B[38;5;124mval_batch_size\u001B[39m\u001B[38;5;124m\"\u001B[39m: \u001B[38;5;241m128\u001B[39m,\n\u001B[1;32m     11\u001B[0m              \u001B[38;5;124m\"\u001B[39m\u001B[38;5;124mepochs\u001B[39m\u001B[38;5;124m\"\u001B[39m: \u001B[38;5;241m2\u001B[39m,\n\u001B[0;32m   (...)\u001B[0m\n\u001B[1;32m     19\u001B[0m              \u001B[38;5;124m\"\u001B[39m\u001B[38;5;124mmodel_name\u001B[39m\u001B[38;5;124m\"\u001B[39m: \u001B[38;5;124m\"\u001B[39m\u001B[38;5;124msaint\u001B[39m\u001B[38;5;124m\"\u001B[39m,\n\u001B[1;32m     20\u001B[0m              \u001B[38;5;124m\"\u001B[39m\u001B[38;5;124mdataset\u001B[39m\u001B[38;5;124m\"\u001B[39m: \u001B[38;5;124m\"\u001B[39m\u001B[38;5;124msuperconduct\u001B[39m\u001B[38;5;124m\"\u001B[39m})\n\u001B[1;32m     21\u001B[0m params\u001B[38;5;241m.\u001B[39mupdate({\u001B[38;5;124m\"\u001B[39m\u001B[38;5;124mdepth\u001B[39m\u001B[38;5;124m\"\u001B[39m: \u001B[38;5;241m6\u001B[39m,\n\u001B[1;32m     22\u001B[0m                       \u001B[38;5;124m\"\u001B[39m\u001B[38;5;124mheads\u001B[39m\u001B[38;5;124m\"\u001B[39m: \u001B[38;5;241m8\u001B[39m,\n\u001B[1;32m     23\u001B[0m                       \u001B[38;5;124m\"\u001B[39m\u001B[38;5;124mdropout\u001B[39m\u001B[38;5;124m\"\u001B[39m: \u001B[38;5;241m0.1\u001B[39m,\n\u001B[1;32m     24\u001B[0m                \u001B[38;5;124m\"\u001B[39m\u001B[38;5;124mdim\u001B[39m\u001B[38;5;124m\"\u001B[39m: \u001B[38;5;241m5\u001B[39m})\n\u001B[0;32m---> 25\u001B[0m saint \u001B[38;5;241m=\u001B[39m \u001B[43mSAINT\u001B[49m\u001B[43m(\u001B[49m\u001B[43margs\u001B[49m\u001B[38;5;241;43m=\u001B[39;49m\u001B[43margs\u001B[49m\u001B[43m,\u001B[49m\n\u001B[1;32m     26\u001B[0m \u001B[43m              \u001B[49m\u001B[43mparams\u001B[49m\u001B[38;5;241;43m=\u001B[39;49m\u001B[43mparams\u001B[49m\u001B[43m)\u001B[49m\n\u001B[1;32m     27\u001B[0m saint\u001B[38;5;241m.\u001B[39mfit(x_train, y_train, x_val, y_val)\n",
      "File \u001B[0;32m~/PycharmProjets/ToyTabular/TabSurvey/models/saint.py:61\u001B[0m, in \u001B[0;36mSAINT.__init__\u001B[0;34m(self, params, args)\u001B[0m\n\u001B[1;32m     44\u001B[0m \u001B[38;5;28mself\u001B[39m\u001B[38;5;241m.\u001B[39mmodel \u001B[38;5;241m=\u001B[39m SAINTModel(\n\u001B[1;32m     45\u001B[0m     categories\u001B[38;5;241m=\u001B[39m\u001B[38;5;28mtuple\u001B[39m(cat_dims),\n\u001B[1;32m     46\u001B[0m     num_continuous\u001B[38;5;241m=\u001B[39m\u001B[38;5;28mlen\u001B[39m(num_idx),\n\u001B[0;32m   (...)\u001B[0m\n\u001B[1;32m     57\u001B[0m     y_dim\u001B[38;5;241m=\u001B[39margs\u001B[38;5;241m.\u001B[39mnum_classes\n\u001B[1;32m     58\u001B[0m )\n\u001B[1;32m     60\u001B[0m \u001B[38;5;28;01mif\u001B[39;00m \u001B[38;5;28mself\u001B[39m\u001B[38;5;241m.\u001B[39margs\u001B[38;5;241m.\u001B[39mdata_parallel:\n\u001B[0;32m---> 61\u001B[0m     \u001B[38;5;28mself\u001B[39m\u001B[38;5;241m.\u001B[39mmodel\u001B[38;5;241m.\u001B[39mtransformer \u001B[38;5;241m=\u001B[39m nn\u001B[38;5;241m.\u001B[39mDataParallel(\u001B[38;5;28mself\u001B[39m\u001B[38;5;241m.\u001B[39mmodel\u001B[38;5;241m.\u001B[39mtransformer, device_ids\u001B[38;5;241m=\u001B[39m\u001B[38;5;28;43mself\u001B[39;49m\u001B[38;5;241;43m.\u001B[39;49m\u001B[43margs\u001B[49m\u001B[38;5;241;43m.\u001B[39;49m\u001B[43mgpu_ids\u001B[49m)\n\u001B[1;32m     62\u001B[0m     \u001B[38;5;28mself\u001B[39m\u001B[38;5;241m.\u001B[39mmodel\u001B[38;5;241m.\u001B[39mmlpfory \u001B[38;5;241m=\u001B[39m nn\u001B[38;5;241m.\u001B[39mDataParallel(\u001B[38;5;28mself\u001B[39m\u001B[38;5;241m.\u001B[39mmodel\u001B[38;5;241m.\u001B[39mmlpfory, device_ids\u001B[38;5;241m=\u001B[39m\u001B[38;5;28mself\u001B[39m\u001B[38;5;241m.\u001B[39margs\u001B[38;5;241m.\u001B[39mgpu_ids)\n",
      "\u001B[0;31mAttributeError\u001B[0m: 'AttrDict' object has no attribute 'gpu_ids'"
     ]
    }
   ],
   "source": [
    "rng = np.random.RandomState(32)\n",
    "x_train, x_val, x_test, y_train, y_val, y_test, categorical_indicator = generate_dataset(config, rng)\n",
    "class AttrDict(dict):\n",
    "    def __init__(self, *args, **kwargs):\n",
    "        super(AttrDict, self).__init__(*args, **kwargs)\n",
    "        self.__dict__ = self\n",
    "args = AttrDict()\n",
    "params = AttrDict()\n",
    "args.update({\"batch_size\": 128,\n",
    "             \"val_batch_size\": 128,\n",
    "             \"epochs\": 2,\n",
    "             \"early_stopping_rounds\": 10,\n",
    "            \"num_features\": x_train.shape[1],\n",
    "            \"use_gpu\": False,\n",
    "             \"data_parallel\": False,\n",
    "             \"cat_idx\": [],\n",
    "             \"num_classes\": 1,\n",
    "             \"objective\": \"binary\",#\"regression\",\n",
    "             \"model_name\": \"saint\",\n",
    "             \"dataset\": \"superconduct\"})\n",
    "params.update({\"depth\": 6,\n",
    "                      \"heads\": 8,\n",
    "                      \"dropout\": 0.1,\n",
    "               \"dim\": 5})\n",
    "saint = SAINT(args=args,\n",
    "              params=params)\n",
    "saint.fit(x_train, y_train, x_val, y_val)"
   ],
   "metadata": {
    "collapsed": false,
    "pycharm": {
     "name": "#%%\n"
    }
   }
  },
  {
   "cell_type": "code",
   "execution_count": 11,
   "outputs": [],
   "source": [
    "y_hat = saint.predict(x_test)"
   ],
   "metadata": {
    "collapsed": false,
    "pycharm": {
     "name": "#%%\n"
    }
   }
  },
  {
   "cell_type": "code",
   "execution_count": 12,
   "outputs": [
    {
     "name": "stdout",
     "output_type": "stream",
     "text": [
      "-0.15488677988677968\n",
      "0.5372528230760316\n"
     ]
    }
   ],
   "source": [
    "from sklearn.metrics import mean_squared_error, r2_score\n",
    "print(r2_score(y_test, y_hat))\n",
    "print(mean_squared_error(y_test, y_hat, squared=False))"
   ],
   "metadata": {
    "collapsed": false,
    "pycharm": {
     "name": "#%%\n"
    }
   }
  },
  {
   "cell_type": "code",
   "execution_count": 14,
   "outputs": [
    {
     "name": "stdout",
     "output_type": "stream",
     "text": [
      "0.7113594040968343\n"
     ]
    }
   ],
   "source": [
    "print(np.mean(y_test == y_hat))"
   ],
   "metadata": {
    "collapsed": false,
    "pycharm": {
     "name": "#%%\n"
    }
   }
  },
  {
   "cell_type": "code",
   "execution_count": null,
   "outputs": [],
   "source": [],
   "metadata": {
    "collapsed": false,
    "pycharm": {
     "name": "#%%\n"
    }
   }
  }
 ],
 "metadata": {
  "kernelspec": {
   "display_name": "Python 3",
   "language": "python",
   "name": "python3"
  },
  "language_info": {
   "codemirror_mode": {
    "name": "ipython",
    "version": 2
   },
   "file_extension": ".py",
   "mimetype": "text/x-python",
   "name": "python",
   "nbconvert_exporter": "python",
   "pygments_lexer": "ipython2",
   "version": "2.7.6"
  }
 },
 "nbformat": 4,
 "nbformat_minor": 0
}