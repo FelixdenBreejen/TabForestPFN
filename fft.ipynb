{
 "cells": [
  {
   "cell_type": "code",
   "execution_count": 7,
   "metadata": {},
   "outputs": [],
   "source": [
    "import torch\n",
    "\n",
    "\n",
    "array = torch.rand(1000)"
   ]
  },
  {
   "cell_type": "code",
   "execution_count": 29,
   "metadata": {},
   "outputs": [
    {
     "name": "stdout",
     "output_type": "stream",
     "text": [
      "tensor([ 5.0105e+02,  2.7438e-01, -5.9362e+00,  1.2648e+00,  3.3268e+00,\n",
      "         5.5860e-01, -2.5040e-01, -1.1898e+00, -2.9955e+00, -2.0807e+00])\n",
      "tensor([ 5.0775e+02,  1.9869e+00, -4.0349e+00,  2.6311e+00,  5.1729e+00,\n",
      "         3.2935e-01, -4.6154e-02, -4.5603e-01,  5.5219e-01,  1.1665e+00])\n"
     ]
    }
   ],
   "source": [
    "array2 = torch.cat((array, torch.rand(10)), dim=0)\n",
    "print(torch.fft.fft(array).real[:10])\n",
    "print(torch.fft.fft(array2).real[:10])"
   ]
  }
 ],
 "metadata": {
  "kernelspec": {
   "display_name": "tab",
   "language": "python",
   "name": "python3"
  },
  "language_info": {
   "codemirror_mode": {
    "name": "ipython",
    "version": 3
   },
   "file_extension": ".py",
   "mimetype": "text/x-python",
   "name": "python",
   "nbconvert_exporter": "python",
   "pygments_lexer": "ipython3",
   "version": "3.11.5"
  }
 },
 "nbformat": 4,
 "nbformat_minor": 2
}
